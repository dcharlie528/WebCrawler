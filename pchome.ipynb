{
 "cells": [
  {
   "cell_type": "code",
   "execution_count": null,
   "metadata": {},
   "outputs": [],
   "source": [
    "pip install requests"
   ]
  },
  {
   "cell_type": "code",
   "execution_count": null,
   "metadata": {},
   "outputs": [],
   "source": [
    "pip install BeautifulSoup4"
   ]
  },
  {
   "cell_type": "code",
   "execution_count": null,
   "metadata": {},
   "outputs": [],
   "source": [
    "pip install selenium"
   ]
  },
  {
   "cell_type": "code",
   "execution_count": 92,
   "metadata": {},
   "outputs": [
    {
     "name": "stdout",
     "output_type": "stream",
     "text": [
      "[<a href=\"//24h.pchome.com.tw/prod/DYAQF4-A900A4ACI\"><em>SONY</em> WF-1000XM3 黑色 真無線 藍牙降噪耳機</a>, <a href=\"//24h.pchome.com.tw/prod/DYAQF4-A900ANK51\"><em>SONY</em> WF-XB700 真無線 藍牙耳機</a>, <a href=\"//24h.pchome.com.tw/prod/DYAQ9M-A9009EO22\"><em>SONY</em> WH-1000XM3 黑色 無線降噪 智慧聆聽 耳罩式耳機</a>]\n",
      "SONY耳機相關商品3個\n"
     ]
    }
   ],
   "source": [
    "import os\n",
    "import requests\n",
    "from selenium import webdriver\n",
    "from bs4 import BeautifulSoup as bs\n",
    "from selenium.webdriver.common.by import By\n",
    "from selenium.webdriver.support.ui import WebDriverWait\n",
    "from selenium.webdriver.support import expected_conditions as EC\n",
    "from time import sleep\n",
    "\n",
    "url = 'https://ecshweb.pchome.com.tw/search/v3.3'\n",
    "\n",
    "# current_dir = os.getcwd()\n",
    "driver = webdriver.Chrome(executable_path = 'C:\\\\Users\\\\Student\\\\Desktop\\\\chromedriver')\n",
    "\n",
    "driver.get(url) \n",
    "\n",
    "driver.find_element_by_id('keyword').send_keys('SONY')\n",
    "driver.find_element_by_id(\"btn_search\").click()\n",
    "\n",
    "\n",
    "sleep(3) \n",
    "\n",
    "\n",
    "js=\"var q=document.documentElement.scrollTop=500000\"  \n",
    "driver.execute_script(js)\n",
    "\n",
    "a = driver.page_source # 商品頁面\n",
    "\n",
    "soup = bs(a,'lxml')\n",
    "\n",
    "souprule = \".prod_name a\"\n",
    "\n",
    "itemtitle = soup.select(souprule)\n",
    "\n",
    "ear = []\n",
    "i = 0\n",
    "for i in itemtitle:\n",
    "    if \"耳機\" in str(i):\n",
    "        ear.append(i)\n",
    "\n",
    "print(ear)\n",
    "print(\"SONY耳機相關商品\" + str(len(ear)) + \"個\")\n",
    "\n"
   ]
  },
  {
   "cell_type": "code",
   "execution_count": 88,
   "metadata": {},
   "outputs": [
    {
     "name": "stdout",
     "output_type": "stream",
     "text": [
      "['SONY WF-1000XM3 黑色 真無線 藍牙降噪耳機', 'SONY WF-XB700\\xa0真無線 藍牙耳機', 'SONY WH-1000XM3 黑色 無線降噪 智慧聆聽 耳罩式耳機']\n"
     ]
    },
    {
     "ename": "TypeError",
     "evalue": "'int' object is not iterable",
     "output_type": "error",
     "traceback": [
      "\u001b[1;31m---------------------------------------------------------------------------\u001b[0m",
      "\u001b[1;31mTypeError\u001b[0m                                 Traceback (most recent call last)",
      "\u001b[1;32m<ipython-input-88-a5a1ba8157af>\u001b[0m in \u001b[0;36m<module>\u001b[1;34m\u001b[0m\n\u001b[0;32m      5\u001b[0m \u001b[0mprint\u001b[0m\u001b[1;33m(\u001b[0m\u001b[0mname\u001b[0m\u001b[1;33m)\u001b[0m\u001b[1;33m\u001b[0m\u001b[1;33m\u001b[0m\u001b[0m\n\u001b[0;32m      6\u001b[0m \u001b[1;33m\u001b[0m\u001b[0m\n\u001b[1;32m----> 7\u001b[1;33m \u001b[1;32mfor\u001b[0m \u001b[0mi\u001b[0m \u001b[1;32min\u001b[0m \u001b[0mlen\u001b[0m\u001b[1;33m(\u001b[0m\u001b[0mear\u001b[0m\u001b[1;33m)\u001b[0m\u001b[1;33m:\u001b[0m\u001b[1;33m\u001b[0m\u001b[1;33m\u001b[0m\u001b[0m\n\u001b[0m\u001b[0;32m      8\u001b[0m     \u001b[0mprint\u001b[0m\u001b[1;33m(\u001b[0m\u001b[0mear\u001b[0m\u001b[1;33m[\u001b[0m\u001b[1;34m'href'\u001b[0m\u001b[1;33m]\u001b[0m\u001b[1;33m)\u001b[0m\u001b[1;33m\u001b[0m\u001b[1;33m\u001b[0m\u001b[0m\n\u001b[0;32m      9\u001b[0m \u001b[1;31m# herf = []\u001b[0m\u001b[1;33m\u001b[0m\u001b[1;33m\u001b[0m\u001b[1;33m\u001b[0m\u001b[0m\n",
      "\u001b[1;31mTypeError\u001b[0m: 'int' object is not iterable"
     ]
    }
   ],
   "source": [
    "\n",
    "\n",
    "# # herf = []\n",
    "\n",
    "# herf = [i.herf for i in ear]\n",
    "\n",
    "# print(herf)"
   ]
  },
  {
   "cell_type": "code",
   "execution_count": 99,
   "metadata": {},
   "outputs": [
    {
     "name": "stdout",
     "output_type": "stream",
     "text": [
      "['SONY WF-1000XM3 黑色 真無線 藍牙降噪耳機', 'SONY WF-XB700\\xa0真無線 藍牙耳機', 'SONY WH-1000XM3 黑色 無線降噪 智慧聆聽 耳罩式耳機']\n",
      "['https://ecshweb.pchome.com.tw/search/v3.3//24h.pchome.com.tw/prod/DYAQF4-A900A4ACI', 'https://ecshweb.pchome.com.tw/search/v3.3//24h.pchome.com.tw/prod/DYAQF4-A900ANK51', 'https://ecshweb.pchome.com.tw/search/v3.3//24h.pchome.com.tw/prod/DYAQ9M-A9009EO22']\n"
     ]
    }
   ],
   "source": [
    "name = []\n",
    "\n",
    "name = [i.text for i in ear]\n",
    "\n",
    "print(name)\n",
    "\n",
    "url + ear[0]['href']\n",
    "aaa = [url + ear[i]['href']for i in range(len(ear))]\n",
    "print(aaa)"
   ]
  },
  {
   "cell_type": "code",
   "execution_count": 107,
   "metadata": {},
   "outputs": [
    {
     "data": {
      "text/html": [
       "<div>\n",
       "<style scoped>\n",
       "    .dataframe tbody tr th:only-of-type {\n",
       "        vertical-align: middle;\n",
       "    }\n",
       "\n",
       "    .dataframe tbody tr th {\n",
       "        vertical-align: top;\n",
       "    }\n",
       "\n",
       "    .dataframe thead th {\n",
       "        text-align: right;\n",
       "    }\n",
       "</style>\n",
       "<table border=\"1\" class=\"dataframe\">\n",
       "  <thead>\n",
       "    <tr style=\"text-align: right;\">\n",
       "      <th></th>\n",
       "      <th>name</th>\n",
       "      <th>URL</th>\n",
       "    </tr>\n",
       "  </thead>\n",
       "  <tbody>\n",
       "    <tr>\n",
       "      <th>0</th>\n",
       "      <td>SONY WF-1000XM3 黑色 真無線 藍牙降噪耳機</td>\n",
       "      <td>https://ecshweb.pchome.com.tw/search/v3.3//24h...</td>\n",
       "    </tr>\n",
       "    <tr>\n",
       "      <th>1</th>\n",
       "      <td>SONY WF-XB700 真無線 藍牙耳機</td>\n",
       "      <td>https://ecshweb.pchome.com.tw/search/v3.3//24h...</td>\n",
       "    </tr>\n",
       "    <tr>\n",
       "      <th>2</th>\n",
       "      <td>SONY WH-1000XM3 黑色 無線降噪 智慧聆聽 耳罩式耳機</td>\n",
       "      <td>https://ecshweb.pchome.com.tw/search/v3.3//24h...</td>\n",
       "    </tr>\n",
       "  </tbody>\n",
       "</table>\n",
       "</div>"
      ],
      "text/plain": [
       "                                 name  \\\n",
       "0       SONY WF-1000XM3 黑色 真無線 藍牙降噪耳機   \n",
       "1              SONY WF-XB700 真無線 藍牙耳機   \n",
       "2  SONY WH-1000XM3 黑色 無線降噪 智慧聆聽 耳罩式耳機   \n",
       "\n",
       "                                                 URL  \n",
       "0  https://ecshweb.pchome.com.tw/search/v3.3//24h...  \n",
       "1  https://ecshweb.pchome.com.tw/search/v3.3//24h...  \n",
       "2  https://ecshweb.pchome.com.tw/search/v3.3//24h...  "
      ]
     },
     "execution_count": 107,
     "metadata": {},
     "output_type": "execute_result"
    }
   ],
   "source": [
    "import pandas as pd\n",
    "\n",
    "df = pd.DataFrame({'name':name,'URL':aaa})\n",
    "df.head()"
   ]
  }
 ],
 "metadata": {
  "kernelspec": {
   "display_name": "Python 3",
   "language": "python",
   "name": "python3"
  },
  "language_info": {
   "codemirror_mode": {
    "name": "ipython",
    "version": 3
   },
   "file_extension": ".py",
   "mimetype": "text/x-python",
   "name": "python",
   "nbconvert_exporter": "python",
   "pygments_lexer": "ipython3",
   "version": "3.7.6"
  }
 },
 "nbformat": 4,
 "nbformat_minor": 4
}
